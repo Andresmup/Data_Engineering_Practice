{
 "cells": [
  {
   "cell_type": "code",
   "execution_count": 1,
   "id": "60954c8f-27c5-464c-a462-f72bfedd16aa",
   "metadata": {},
   "outputs": [],
   "source": [
    "import pyspark #Main library\n",
    "from pyspark.sql import SparkSession #Need to start spart\n",
    "from pyspark.sql import types #Used to set data types in columns\n",
    "from pyspark.sql import functions as F #Predifined functions\n",
    "from pyspark.sql.types import StructType, StructField, StringType, IntegerType #Data types"
   ]
  },
  {
   "cell_type": "code",
   "execution_count": 2,
   "id": "21b8b887-d467-45e6-8703-12c81138b4ff",
   "metadata": {},
   "outputs": [],
   "source": [
    "import pandas as pd #import pandas"
   ]
  },
  {
   "cell_type": "code",
   "execution_count": 3,
   "id": "442631d5-87ec-4ed9-a54b-0f9175ffed4f",
   "metadata": {},
   "outputs": [],
   "source": [
    "#Create session\n",
    "spark = SparkSession.builder \\\n",
    "    .master(\"local[*]\") \\\n",
    "    .appName('test') \\\n",
    "    .getOrCreate()"
   ]
  },
  {
   "cell_type": "code",
   "execution_count": 4,
   "id": "eb0657de-efcc-408c-acac-e6a2a89e2bbf",
   "metadata": {},
   "outputs": [],
   "source": [
    "#Create a df importing without pyspark with the data type\n",
    "df_head = spark.read.csv('fhv_tripdata_2019-10.csv', header=True, inferSchema=True)"
   ]
  },
  {
   "cell_type": "code",
   "execution_count": 5,
   "id": "3b373e1d-9519-46a8-b624-fe9b7dfd18eb",
   "metadata": {},
   "outputs": [
    {
     "name": "stdout",
     "output_type": "stream",
     "text": [
      "root\n",
      " |-- dispatching_base_num: string (nullable = true)\n",
      " |-- pickup_datetime: timestamp (nullable = true)\n",
      " |-- dropOff_datetime: timestamp (nullable = true)\n",
      " |-- PUlocationID: integer (nullable = true)\n",
      " |-- DOlocationID: integer (nullable = true)\n",
      " |-- SR_Flag: string (nullable = true)\n",
      " |-- Affiliated_base_number: string (nullable = true)\n",
      "\n"
     ]
    }
   ],
   "source": [
    "#Check if the data types are okay\n",
    "df_head.printSchema()"
   ]
  },
  {
   "cell_type": "code",
   "execution_count": 6,
   "id": "8260fb6e-0d94-4378-a7b3-899060283db4",
   "metadata": {},
   "outputs": [],
   "source": [
    "#Can be set de data types\n",
    "schema = types.StructType([\n",
    "\ttypes.StructField('Affiliated_base_number',types.StringType(), True),\n",
    "\ttypes.StructField('dispatching_base_num',types.StringType(), True),\n",
    "\ttypes.StructField('pickup_datetime',types.TimestampType(), True),\n",
    "\ttypes.StructField('dropOff_datetime',types.TimestampType(), True),\n",
    "\ttypes.StructField('PULocationID', types.IntegerType(), True),\n",
    "\ttypes.StructField('DOLocationID', types.IntegerType(), True),\n",
    "\ttypes.StructField('SR_Flag', types.StringType(), True)\n",
    "])"
   ]
  },
  {
   "cell_type": "code",
   "execution_count": 7,
   "id": "4302623d-6d44-4124-b848-8108dcd0608a",
   "metadata": {},
   "outputs": [],
   "source": [
    "#Create a df setting the schema withwith the data type\n",
    "df_fhv = spark.read.option(\"header\", \"true\").schema(schema).csv('fhv_tripdata_2019-10.csv')"
   ]
  },
  {
   "cell_type": "code",
   "execution_count": 8,
   "id": "91ae7e3f-91df-408d-8c3f-d5a3baf424d3",
   "metadata": {},
   "outputs": [],
   "source": [
    "#Fix column names\n",
    "df_fhv = df_fhv.withColumnRenamed('dropOff_datetime', 'dropoff_datetime')"
   ]
  },
  {
   "cell_type": "code",
   "execution_count": 9,
   "id": "2b218b84-a759-48aa-8061-76b02a8a68a0",
   "metadata": {},
   "outputs": [
    {
     "data": {
      "text/plain": [
       "['Affiliated_base_number',\n",
       " 'dispatching_base_num',\n",
       " 'pickup_datetime',\n",
       " 'dropoff_datetime',\n",
       " 'PULocationID',\n",
       " 'DOLocationID',\n",
       " 'SR_Flag']"
      ]
     },
     "execution_count": 9,
     "metadata": {},
     "output_type": "execute_result"
    }
   ],
   "source": [
    "#Check if columns names are okay now\n",
    "df_fhv.columns"
   ]
  },
  {
   "cell_type": "code",
   "execution_count": 10,
   "id": "1570a07a-7ba4-404c-a7ca-91b327250d7a",
   "metadata": {},
   "outputs": [
    {
     "name": "stdout",
     "output_type": "stream",
     "text": [
      "+----------------------+--------------------+-------------------+----------------+------------+------------+-------+\n",
      "|Affiliated_base_number|dispatching_base_num|    pickup_datetime|dropoff_datetime|PULocationID|DOLocationID|SR_Flag|\n",
      "+----------------------+--------------------+-------------------+----------------+------------+------------+-------+\n",
      "|                B00009| 2019-10-01 00:23:00|2019-10-01 00:35:00|            null|         264|        null| B00009|\n",
      "|                B00013| 2019-10-01 00:11:29|2019-10-01 00:13:22|            null|         264|        null| B00013|\n",
      "|                B00014| 2019-10-01 00:11:43|2019-10-01 00:37:20|            null|         264|        null| B00014|\n",
      "|                B00014| 2019-10-01 00:56:29|2019-10-01 00:57:47|            null|         264|        null| B00014|\n",
      "|                B00014| 2019-10-01 00:23:09|2019-10-01 00:28:27|            null|         264|        null| B00014|\n",
      "+----------------------+--------------------+-------------------+----------------+------------+------------+-------+\n",
      "only showing top 5 rows\n",
      "\n"
     ]
    }
   ],
   "source": [
    "#Show dataframe before partition\n",
    "df_fhv.show(5)"
   ]
  },
  {
   "cell_type": "code",
   "execution_count": 11,
   "id": "2af638b5-4864-4e47-9865-264a90e54834",
   "metadata": {},
   "outputs": [],
   "source": [
    "#Create dataframe partitionedin 6\n",
    "df_fhv_partitioned = df_fhv.repartition(6)"
   ]
  },
  {
   "cell_type": "code",
   "execution_count": 12,
   "id": "13d68499-0c22-4d9e-aa73-7837ff601091",
   "metadata": {},
   "outputs": [],
   "source": [
    "df_fhv_partitioned.write.parquet(\"fhv/19/10\")"
   ]
  },
  {
   "cell_type": "code",
   "execution_count": 13,
   "id": "ac9f72dc-9b1d-4f06-9516-3b854dfc1ed8",
   "metadata": {},
   "outputs": [
    {
     "name": "stdout",
     "output_type": "stream",
     "text": [
      "root\n",
      " |-- Affiliated_base_number: string (nullable = true)\n",
      " |-- dispatching_base_num: string (nullable = true)\n",
      " |-- pickup_datetime: timestamp (nullable = true)\n",
      " |-- dropoff_datetime: timestamp (nullable = true)\n",
      " |-- PULocationID: integer (nullable = true)\n",
      " |-- DOLocationID: integer (nullable = true)\n",
      " |-- SR_Flag: string (nullable = true)\n",
      "\n"
     ]
    }
   ],
   "source": [
    "df_fhv.printSchema()"
   ]
  },
  {
   "cell_type": "code",
   "execution_count": 14,
   "id": "bb2af9c6-43b8-4674-94f9-4e7914377c75",
   "metadata": {},
   "outputs": [],
   "source": [
    "#Read fhv dataset form partioned folder\n",
    "df_fhv = spark.read.parquet('fhv/19/10/*')"
   ]
  },
  {
   "cell_type": "code",
   "execution_count": 15,
   "id": "5b8d1b39-cb54-413b-a801-792f25c40cfa",
   "metadata": {},
   "outputs": [],
   "source": [
    "#Register fhv dataframe as tables\n",
    "df_fhv.createOrReplaceTempView('fhv')"
   ]
  },
  {
   "cell_type": "code",
   "execution_count": 16,
   "id": "ea240780-3e9e-4c87-8d3c-8e58e5a553c6",
   "metadata": {},
   "outputs": [
    {
     "name": "stdout",
     "output_type": "stream",
     "text": [
      "+--------+\n",
      "|count(1)|\n",
      "+--------+\n",
      "|   62295|\n",
      "+--------+\n",
      "\n"
     ]
    }
   ],
   "source": [
    "#Use SQL query to count records\n",
    "spark.sql(\"\"\"\n",
    "SELECT\n",
    "    count(1)\n",
    "FROM\n",
    "    fhv\n",
    "WHERE\n",
    "    pickup_datetime >= '2019-10-15 00:00:00' AND pickup_datetime <= '2019-10-15 23:59:59'\n",
    "\"\"\").show()"
   ]
  },
  {
   "cell_type": "code",
   "execution_count": 17,
   "id": "88cf2fe7-3f67-4682-947d-bde4caa8cdae",
   "metadata": {},
   "outputs": [
    {
     "name": "stdout",
     "output_type": "stream",
     "text": [
      "+------------------------+\n",
      "|max_duration_trips_hours|\n",
      "+------------------------+\n",
      "|                    null|\n",
      "+------------------------+\n",
      "\n"
     ]
    }
   ],
   "source": [
    "#Use SQL query to return the longest trip in hours  \n",
    "spark.sql(\"\"\"\n",
    "SELECT \n",
    "    MAX(DATEDIFF(dropoff_datetime, pickup_datetime) * 24) AS max_duration_trips_hours\n",
    "FROM\n",
    "    fhv\n",
    "WHERE\n",
    "    pickup_datetime IS NOT NULL\n",
    "    AND dropoff_datetime IS NOT NULL;\n",
    "\"\"\").show()\n"
   ]
  },
  {
   "cell_type": "code",
   "execution_count": 18,
   "id": "5b4bf76d-cf5b-4698-ad6d-0c2aaa308ea7",
   "metadata": {},
   "outputs": [
    {
     "name": "stdout",
     "output_type": "stream",
     "text": [
      "+--------+\n",
      "|count(1)|\n",
      "+--------+\n",
      "|       0|\n",
      "+--------+\n",
      "\n"
     ]
    }
   ],
   "source": [
    "#Use SQL query to count records\n",
    "spark.sql(\"\"\"\n",
    "SELECT\n",
    "    count(1)\n",
    "FROM\n",
    "    fhv\n",
    "WHERE\n",
    "    dropoff_datetime IS NOT NULL;\n",
    "\"\"\").show()"
   ]
  },
  {
   "cell_type": "code",
   "execution_count": 19,
   "id": "8b483092-843e-4dad-9e0a-471fb320bc51",
   "metadata": {},
   "outputs": [],
   "source": [
    "#Load zones\n",
    "df_zones = spark.read.parquet('zones/')"
   ]
  },
  {
   "cell_type": "code",
   "execution_count": 20,
   "id": "f136cff9-46d2-4ce3-bb98-11e8c3894742",
   "metadata": {},
   "outputs": [
    {
     "name": "stdout",
     "output_type": "stream",
     "text": [
      "+----------+-------------+--------------------+------------+\n",
      "|LocationID|      Borough|                Zone|service_zone|\n",
      "+----------+-------------+--------------------+------------+\n",
      "|         1|          EWR|      Newark Airport|         EWR|\n",
      "|         2|       Queens|         Jamaica Bay|   Boro Zone|\n",
      "|         3|        Bronx|Allerton/Pelham G...|   Boro Zone|\n",
      "|         4|    Manhattan|       Alphabet City| Yellow Zone|\n",
      "|         5|Staten Island|       Arden Heights|   Boro Zone|\n",
      "+----------+-------------+--------------------+------------+\n",
      "only showing top 5 rows\n",
      "\n"
     ]
    }
   ],
   "source": [
    "#Check zones\n",
    "df_zones.show(5)"
   ]
  },
  {
   "cell_type": "code",
   "execution_count": 21,
   "id": "6b262865-474f-4508-959d-0b604829f489",
   "metadata": {},
   "outputs": [
    {
     "name": "stdout",
     "output_type": "stream",
     "text": [
      "root\n",
      " |-- LocationID: string (nullable = true)\n",
      " |-- Borough: string (nullable = true)\n",
      " |-- Zone: string (nullable = true)\n",
      " |-- service_zone: string (nullable = true)\n",
      "\n"
     ]
    }
   ],
   "source": [
    "#Check zones schema\n",
    "df_zones.printSchema()"
   ]
  },
  {
   "cell_type": "code",
   "execution_count": 23,
   "id": "a8f240c6-2c67-4ef1-9ed4-da2de78534de",
   "metadata": {},
   "outputs": [],
   "source": [
    "#Join df with both trips with zones, in df_zones the zone id is named zone and in df_zones is LocationID\n",
    "df_join = df_fhv.join(df_zones, df_fhv.PULocationID == df_zones.LocationID)"
   ]
  },
  {
   "cell_type": "code",
   "execution_count": 24,
   "id": "bb376398-9ade-417c-88ba-bd8a196e1f64",
   "metadata": {},
   "outputs": [
    {
     "name": "stdout",
     "output_type": "stream",
     "text": [
      "+----------------------+--------------------+-------------------+----------------+------------+------------+-------+----------+---------+--------------------+------------+\n",
      "|Affiliated_base_number|dispatching_base_num|    pickup_datetime|dropoff_datetime|PULocationID|DOLocationID|SR_Flag|LocationID|  Borough|                Zone|service_zone|\n",
      "+----------------------+--------------------+-------------------+----------------+------------+------------+-------+----------+---------+--------------------+------------+\n",
      "|                B00647| 2019-10-02 18:00:55|2019-10-02 18:08:43|            null|         182|        null| B00647|       182|    Bronx|         Parkchester|   Boro Zone|\n",
      "|                B03160| 2019-10-02 08:26:00|2019-10-02 08:58:00|            null|         107|        null| B02870|       107|Manhattan|            Gramercy| Yellow Zone|\n",
      "|                B02719| 2019-10-01 11:32:22|2019-10-01 11:53:01|            null|         235|        null| B02719|       235|    Bronx|University Height...|   Boro Zone|\n",
      "|                B03160| 2019-10-03 06:08:00|2019-10-03 07:40:00|            null|         197|        null| B02883|       197|   Queens|       Richmond Hill|   Boro Zone|\n",
      "|                B03016| 2019-10-01 06:42:52|2019-10-01 07:02:46|            null|         174|        null| B02864|       174|    Bronx|             Norwood|   Boro Zone|\n",
      "+----------------------+--------------------+-------------------+----------------+------------+------------+-------+----------+---------+--------------------+------------+\n",
      "only showing top 5 rows\n",
      "\n"
     ]
    }
   ],
   "source": [
    "#See results\n",
    "df_join.show(5)"
   ]
  },
  {
   "cell_type": "code",
   "execution_count": 25,
   "id": "106d52c5-caa7-4965-a477-fd1192830308",
   "metadata": {},
   "outputs": [
    {
     "name": "stdout",
     "output_type": "stream",
     "text": [
      "root\n",
      " |-- Affiliated_base_number: string (nullable = true)\n",
      " |-- dispatching_base_num: string (nullable = true)\n",
      " |-- pickup_datetime: timestamp (nullable = true)\n",
      " |-- dropoff_datetime: timestamp (nullable = true)\n",
      " |-- PULocationID: integer (nullable = true)\n",
      " |-- DOLocationID: integer (nullable = true)\n",
      " |-- SR_Flag: string (nullable = true)\n",
      " |-- LocationID: string (nullable = true)\n",
      " |-- Borough: string (nullable = true)\n",
      " |-- Zone: string (nullable = true)\n",
      " |-- service_zone: string (nullable = true)\n",
      "\n"
     ]
    }
   ],
   "source": [
    "#Check schema\n",
    "df_join.printSchema()"
   ]
  },
  {
   "cell_type": "code",
   "execution_count": 26,
   "id": "1eb125bb-34a8-49ec-8d72-1d48cac7dbc8",
   "metadata": {},
   "outputs": [],
   "source": [
    "#Register fhv dataframe as tables\n",
    "df_join.createOrReplaceTempView('join')"
   ]
  },
  {
   "cell_type": "code",
   "execution_count": 30,
   "id": "d0062499-d401-4ccb-be38-d9a06ba58b1e",
   "metadata": {},
   "outputs": [
    {
     "data": {
      "text/plain": [
       "[Row(Zone=\"Governor's Island/Ellis Island/Liberty Island\", pickup_count=4),\n",
       " Row(Zone='Rikers Island', pickup_count=4),\n",
       " Row(Zone='Jamaica Bay', pickup_count=14),\n",
       " Row(Zone='Battery Park', pickup_count=35),\n",
       " Row(Zone='Broad Channel', pickup_count=36),\n",
       " Row(Zone='Breezy Point/Fort Tilden/Riis Beach', pickup_count=54),\n",
       " Row(Zone='Astoria Park', pickup_count=73),\n",
       " Row(Zone='Freshkills Park', pickup_count=132),\n",
       " Row(Zone='Saint Michaels Cemetery/Woodside', pickup_count=162),\n",
       " Row(Zone='Green-Wood Cemetery', pickup_count=261)]"
      ]
     },
     "execution_count": 30,
     "metadata": {},
     "output_type": "execute_result"
    }
   ],
   "source": [
    "#Use SQL query to count records by zone\n",
    "spark.sql(\"\"\"\n",
    "SELECT\n",
    "    Zone,\n",
    "    COUNT(*) AS pickup_count\n",
    "FROM\n",
    "    join\n",
    "WHERE\n",
    "    pickup_datetime IS NOT NULL\n",
    "GROUP BY\n",
    "    Zone\n",
    "ORDER BY\n",
    "    pickup_count\n",
    "LIMIT 10;\n",
    "\"\"\").head(10)"
   ]
  },
  {
   "cell_type": "code",
   "execution_count": 31,
   "id": "6d9c29ce-0732-4425-ac90-19086935e74e",
   "metadata": {},
   "outputs": [],
   "source": [
    "#Save the results as parquet file dropping locationID and zone\n",
    "df_join.drop('PULocationID', 'LocationID').write.parquet('tmp/fhv-zones')"
   ]
  },
  {
   "cell_type": "code",
   "execution_count": null,
   "id": "1740c669-86d6-413e-abff-344fee9db319",
   "metadata": {},
   "outputs": [],
   "source": []
  }
 ],
 "metadata": {
  "kernelspec": {
   "display_name": "Python 3 (ipykernel)",
   "language": "python",
   "name": "python3"
  },
  "language_info": {
   "codemirror_mode": {
    "name": "ipython",
    "version": 3
   },
   "file_extension": ".py",
   "mimetype": "text/x-python",
   "name": "python",
   "nbconvert_exporter": "python",
   "pygments_lexer": "ipython3",
   "version": "3.11.5"
  }
 },
 "nbformat": 4,
 "nbformat_minor": 5
}
